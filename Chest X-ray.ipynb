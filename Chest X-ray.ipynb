{
 "cells": [
  {
   "cell_type": "code",
   "execution_count": 2,
   "metadata": {},
   "outputs": [],
   "source": [
    "# Importing Library \n",
    "import pandas as pd\n",
    "import numpy as np\n",
    "import matplotlib.pyplot as plt \n",
    "from sklearn.linear_model import LogisticRegression\n",
    "from sklearn import metrics\n",
    "import statsmodels.api as sm\n",
    "from sklearn.metrics import mean_squared_error, mean_absolute_error\n",
    "import seaborn as sns\n",
    "%matplotlib inline \n",
    "lr = LogisticRegression()"
   ]
  },
  {
   "cell_type": "code",
   "execution_count": 3,
   "metadata": {},
   "outputs": [],
   "source": [
    "# Accuracy Calculation\n",
    "def lm(model,x,y):\n",
    "    yh = model.predict(x)\n",
    "    r2 = model.score(x,y)\n",
    "    print('The Accuracy is: ', r2)\n",
    "    cm = metrics.confusion_matrix(y, yh)\n",
    "    print(cm)\n",
    "    return(yh)"
   ]
  },
  {
   "cell_type": "code",
   "execution_count": 4,
   "metadata": {},
   "outputs": [],
   "source": [
    "# Plot Fitted vs Actual Value\n",
    "def plot(y,yhat):\n",
    "    cm = metrics.confusion_matrix(y, yhat)\n",
    "    plt.figure(figsize=(18, 10))\n",
    "    sns.heatmap(cm, annot=True, fmt=\".3f\", linewidths=.5, square = True, cmap = 'Blues_r');\n",
    "    plt.ylabel('Actual label');\n",
    "    plt.xlabel('Predicted label');"
   ]
  },
  {
   "cell_type": "code",
   "execution_count": 5,
   "metadata": {},
   "outputs": [],
   "source": [
    "# Summary of the Model\n",
    "def lm_view(x,y):\n",
    "    X1 = sm.add_constant(x)\n",
    "    model = sm.OLS(y,X1)\n",
    "    model1 = model.fit()\n",
    "    print(model1.summary())"
   ]
  },
  {
   "cell_type": "code",
   "execution_count": 6,
   "metadata": {},
   "outputs": [],
   "source": [
    "# Split into dependent and Independent \n",
    "def IDsplit(data):\n",
    "    I = data.iloc[:,:-1]\n",
    "    D = data.iloc[:,-1]\n",
    "    return(I,D)"
   ]
  },
  {
   "cell_type": "code",
   "execution_count": 7,
   "metadata": {},
   "outputs": [],
   "source": [
    "# Complete Regression View, Accuracy, Plot\n",
    "def complete_regression(train, test):\n",
    "    a = IDsplit(train)\n",
    "    X = a[0]\n",
    "    Y = a[1]\n",
    "    \n",
    "    b = IDsplit(test)\n",
    "    x = b[0]\n",
    "    y = b[1]\n",
    "    \n",
    "    lr.fit(X,Y)\n",
    "    print(\"\\n\")\n",
    "    yh = lm(lr,x,y)\n",
    "    plot(y,yh)"
   ]
  },
  {
   "cell_type": "code",
   "execution_count": 8,
   "metadata": {},
   "outputs": [],
   "source": [
    "# Subset the Y Axis(coloumn) in with upper limit and lower\n",
    "def subset(data,column, upper, lower):\n",
    "    a = data[data[column]>lower]\n",
    "    a = a[a[4096]<upper]\n",
    "    return(a)"
   ]
  },
  {
   "cell_type": "code",
   "execution_count": 28,
   "metadata": {
    "scrolled": true
   },
   "outputs": [],
   "source": [
    "# Importing Data\n",
    "ntrain = pd.read_csv (r'normal_train.csv', header=None )\n",
    "ntest = pd.read_csv (r'normal_test.csv', header=None )\n",
    "ptrain = pd.read_csv (r'pneumonia_train.csv', header=None )\n",
    "ptest = pd.read_csv (r'pneumonia_test.csv', header=None )"
   ]
  },
  {
   "cell_type": "code",
   "execution_count": 29,
   "metadata": {},
   "outputs": [
    {
     "name": "stdout",
     "output_type": "stream",
     "text": [
      "(1341, 4096)\n",
      "(234, 4096)\n",
      "(3875, 4096)\n",
      "(390, 4096)\n"
     ]
    }
   ],
   "source": [
    "print(ntrain.shape)\n",
    "print(ntest.shape)\n",
    "print(ptrain.shape)\n",
    "print(ptest.shape)"
   ]
  },
  {
   "cell_type": "code",
   "execution_count": 30,
   "metadata": {},
   "outputs": [],
   "source": [
    "ntrain[4096] = 0\n",
    "ntest[4096] = 0\n",
    "ptrain[4096] = 1\n",
    "ptest[4096] = 1"
   ]
  },
  {
   "cell_type": "code",
   "execution_count": 31,
   "metadata": {},
   "outputs": [],
   "source": [
    "train = ntrain.append(ptrain, ignore_index=True)\n",
    "test = ntest.append(ptest, ignore_index=True)"
   ]
  },
  {
   "cell_type": "code",
   "execution_count": 32,
   "metadata": {},
   "outputs": [
    {
     "name": "stdout",
     "output_type": "stream",
     "text": [
      "(5216, 4097)\n",
      "(624, 4097)\n"
     ]
    }
   ],
   "source": [
    "print(train.shape)\n",
    "print(test.shape)"
   ]
  },
  {
   "cell_type": "code",
   "execution_count": 33,
   "metadata": {},
   "outputs": [
    {
     "data": {
      "text/html": [
       "<div>\n",
       "<style scoped>\n",
       "    .dataframe tbody tr th:only-of-type {\n",
       "        vertical-align: middle;\n",
       "    }\n",
       "\n",
       "    .dataframe tbody tr th {\n",
       "        vertical-align: top;\n",
       "    }\n",
       "\n",
       "    .dataframe thead th {\n",
       "        text-align: right;\n",
       "    }\n",
       "</style>\n",
       "<table border=\"1\" class=\"dataframe\">\n",
       "  <thead>\n",
       "    <tr style=\"text-align: right;\">\n",
       "      <th></th>\n",
       "      <th>0</th>\n",
       "      <th>1</th>\n",
       "      <th>2</th>\n",
       "      <th>3</th>\n",
       "      <th>4</th>\n",
       "      <th>5</th>\n",
       "      <th>6</th>\n",
       "      <th>7</th>\n",
       "      <th>8</th>\n",
       "      <th>9</th>\n",
       "      <th>...</th>\n",
       "      <th>4087</th>\n",
       "      <th>4088</th>\n",
       "      <th>4089</th>\n",
       "      <th>4090</th>\n",
       "      <th>4091</th>\n",
       "      <th>4092</th>\n",
       "      <th>4093</th>\n",
       "      <th>4094</th>\n",
       "      <th>4095</th>\n",
       "      <th>4096</th>\n",
       "    </tr>\n",
       "  </thead>\n",
       "  <tbody>\n",
       "    <tr>\n",
       "      <th>0</th>\n",
       "      <td>30</td>\n",
       "      <td>28</td>\n",
       "      <td>27</td>\n",
       "      <td>29</td>\n",
       "      <td>28</td>\n",
       "      <td>29</td>\n",
       "      <td>31</td>\n",
       "      <td>28</td>\n",
       "      <td>29</td>\n",
       "      <td>28</td>\n",
       "      <td>...</td>\n",
       "      <td>0</td>\n",
       "      <td>0</td>\n",
       "      <td>0</td>\n",
       "      <td>0</td>\n",
       "      <td>0</td>\n",
       "      <td>0</td>\n",
       "      <td>0</td>\n",
       "      <td>0</td>\n",
       "      <td>0</td>\n",
       "      <td>0</td>\n",
       "    </tr>\n",
       "    <tr>\n",
       "      <th>1</th>\n",
       "      <td>58</td>\n",
       "      <td>48</td>\n",
       "      <td>80</td>\n",
       "      <td>88</td>\n",
       "      <td>104</td>\n",
       "      <td>108</td>\n",
       "      <td>121</td>\n",
       "      <td>115</td>\n",
       "      <td>118</td>\n",
       "      <td>97</td>\n",
       "      <td>...</td>\n",
       "      <td>153</td>\n",
       "      <td>152</td>\n",
       "      <td>137</td>\n",
       "      <td>124</td>\n",
       "      <td>148</td>\n",
       "      <td>73</td>\n",
       "      <td>32</td>\n",
       "      <td>0</td>\n",
       "      <td>0</td>\n",
       "      <td>0</td>\n",
       "    </tr>\n",
       "    <tr>\n",
       "      <th>2</th>\n",
       "      <td>52</td>\n",
       "      <td>72</td>\n",
       "      <td>91</td>\n",
       "      <td>101</td>\n",
       "      <td>159</td>\n",
       "      <td>146</td>\n",
       "      <td>142</td>\n",
       "      <td>200</td>\n",
       "      <td>106</td>\n",
       "      <td>105</td>\n",
       "      <td>...</td>\n",
       "      <td>182</td>\n",
       "      <td>157</td>\n",
       "      <td>179</td>\n",
       "      <td>175</td>\n",
       "      <td>70</td>\n",
       "      <td>0</td>\n",
       "      <td>0</td>\n",
       "      <td>0</td>\n",
       "      <td>0</td>\n",
       "      <td>0</td>\n",
       "    </tr>\n",
       "    <tr>\n",
       "      <th>3</th>\n",
       "      <td>2</td>\n",
       "      <td>29</td>\n",
       "      <td>44</td>\n",
       "      <td>55</td>\n",
       "      <td>70</td>\n",
       "      <td>78</td>\n",
       "      <td>81</td>\n",
       "      <td>101</td>\n",
       "      <td>136</td>\n",
       "      <td>135</td>\n",
       "      <td>...</td>\n",
       "      <td>108</td>\n",
       "      <td>32</td>\n",
       "      <td>0</td>\n",
       "      <td>0</td>\n",
       "      <td>0</td>\n",
       "      <td>0</td>\n",
       "      <td>0</td>\n",
       "      <td>0</td>\n",
       "      <td>0</td>\n",
       "      <td>0</td>\n",
       "    </tr>\n",
       "    <tr>\n",
       "      <th>4</th>\n",
       "      <td>120</td>\n",
       "      <td>124</td>\n",
       "      <td>132</td>\n",
       "      <td>176</td>\n",
       "      <td>169</td>\n",
       "      <td>166</td>\n",
       "      <td>173</td>\n",
       "      <td>169</td>\n",
       "      <td>135</td>\n",
       "      <td>140</td>\n",
       "      <td>...</td>\n",
       "      <td>179</td>\n",
       "      <td>172</td>\n",
       "      <td>152</td>\n",
       "      <td>180</td>\n",
       "      <td>118</td>\n",
       "      <td>64</td>\n",
       "      <td>36</td>\n",
       "      <td>0</td>\n",
       "      <td>0</td>\n",
       "      <td>0</td>\n",
       "    </tr>\n",
       "    <tr>\n",
       "      <th>...</th>\n",
       "      <td>...</td>\n",
       "      <td>...</td>\n",
       "      <td>...</td>\n",
       "      <td>...</td>\n",
       "      <td>...</td>\n",
       "      <td>...</td>\n",
       "      <td>...</td>\n",
       "      <td>...</td>\n",
       "      <td>...</td>\n",
       "      <td>...</td>\n",
       "      <td>...</td>\n",
       "      <td>...</td>\n",
       "      <td>...</td>\n",
       "      <td>...</td>\n",
       "      <td>...</td>\n",
       "      <td>...</td>\n",
       "      <td>...</td>\n",
       "      <td>...</td>\n",
       "      <td>...</td>\n",
       "      <td>...</td>\n",
       "      <td>...</td>\n",
       "    </tr>\n",
       "    <tr>\n",
       "      <th>5211</th>\n",
       "      <td>0</td>\n",
       "      <td>7</td>\n",
       "      <td>12</td>\n",
       "      <td>17</td>\n",
       "      <td>255</td>\n",
       "      <td>22</td>\n",
       "      <td>27</td>\n",
       "      <td>28</td>\n",
       "      <td>34</td>\n",
       "      <td>41</td>\n",
       "      <td>...</td>\n",
       "      <td>4</td>\n",
       "      <td>6</td>\n",
       "      <td>8</td>\n",
       "      <td>9</td>\n",
       "      <td>10</td>\n",
       "      <td>12</td>\n",
       "      <td>15</td>\n",
       "      <td>21</td>\n",
       "      <td>31</td>\n",
       "      <td>1</td>\n",
       "    </tr>\n",
       "    <tr>\n",
       "      <th>5212</th>\n",
       "      <td>40</td>\n",
       "      <td>49</td>\n",
       "      <td>54</td>\n",
       "      <td>60</td>\n",
       "      <td>65</td>\n",
       "      <td>68</td>\n",
       "      <td>69</td>\n",
       "      <td>70</td>\n",
       "      <td>67</td>\n",
       "      <td>72</td>\n",
       "      <td>...</td>\n",
       "      <td>174</td>\n",
       "      <td>183</td>\n",
       "      <td>134</td>\n",
       "      <td>52</td>\n",
       "      <td>12</td>\n",
       "      <td>23</td>\n",
       "      <td>25</td>\n",
       "      <td>35</td>\n",
       "      <td>23</td>\n",
       "      <td>1</td>\n",
       "    </tr>\n",
       "    <tr>\n",
       "      <th>5213</th>\n",
       "      <td>10</td>\n",
       "      <td>11</td>\n",
       "      <td>15</td>\n",
       "      <td>17</td>\n",
       "      <td>19</td>\n",
       "      <td>27</td>\n",
       "      <td>27</td>\n",
       "      <td>69</td>\n",
       "      <td>68</td>\n",
       "      <td>67</td>\n",
       "      <td>...</td>\n",
       "      <td>148</td>\n",
       "      <td>110</td>\n",
       "      <td>76</td>\n",
       "      <td>104</td>\n",
       "      <td>34</td>\n",
       "      <td>9</td>\n",
       "      <td>4</td>\n",
       "      <td>0</td>\n",
       "      <td>0</td>\n",
       "      <td>1</td>\n",
       "    </tr>\n",
       "    <tr>\n",
       "      <th>5214</th>\n",
       "      <td>40</td>\n",
       "      <td>40</td>\n",
       "      <td>43</td>\n",
       "      <td>46</td>\n",
       "      <td>48</td>\n",
       "      <td>49</td>\n",
       "      <td>43</td>\n",
       "      <td>48</td>\n",
       "      <td>49</td>\n",
       "      <td>43</td>\n",
       "      <td>...</td>\n",
       "      <td>21</td>\n",
       "      <td>26</td>\n",
       "      <td>27</td>\n",
       "      <td>27</td>\n",
       "      <td>27</td>\n",
       "      <td>28</td>\n",
       "      <td>30</td>\n",
       "      <td>30</td>\n",
       "      <td>39</td>\n",
       "      <td>1</td>\n",
       "    </tr>\n",
       "    <tr>\n",
       "      <th>5215</th>\n",
       "      <td>44</td>\n",
       "      <td>59</td>\n",
       "      <td>123</td>\n",
       "      <td>118</td>\n",
       "      <td>116</td>\n",
       "      <td>124</td>\n",
       "      <td>109</td>\n",
       "      <td>74</td>\n",
       "      <td>74</td>\n",
       "      <td>79</td>\n",
       "      <td>...</td>\n",
       "      <td>149</td>\n",
       "      <td>118</td>\n",
       "      <td>97</td>\n",
       "      <td>19</td>\n",
       "      <td>0</td>\n",
       "      <td>0</td>\n",
       "      <td>0</td>\n",
       "      <td>0</td>\n",
       "      <td>0</td>\n",
       "      <td>1</td>\n",
       "    </tr>\n",
       "  </tbody>\n",
       "</table>\n",
       "<p>5216 rows × 4097 columns</p>\n",
       "</div>"
      ],
      "text/plain": [
       "      0     1     2     3     4     5     6     7     8     9     ...  4087  \\\n",
       "0       30    28    27    29    28    29    31    28    29    28  ...     0   \n",
       "1       58    48    80    88   104   108   121   115   118    97  ...   153   \n",
       "2       52    72    91   101   159   146   142   200   106   105  ...   182   \n",
       "3        2    29    44    55    70    78    81   101   136   135  ...   108   \n",
       "4      120   124   132   176   169   166   173   169   135   140  ...   179   \n",
       "...    ...   ...   ...   ...   ...   ...   ...   ...   ...   ...  ...   ...   \n",
       "5211     0     7    12    17   255    22    27    28    34    41  ...     4   \n",
       "5212    40    49    54    60    65    68    69    70    67    72  ...   174   \n",
       "5213    10    11    15    17    19    27    27    69    68    67  ...   148   \n",
       "5214    40    40    43    46    48    49    43    48    49    43  ...    21   \n",
       "5215    44    59   123   118   116   124   109    74    74    79  ...   149   \n",
       "\n",
       "      4088  4089  4090  4091  4092  4093  4094  4095  4096  \n",
       "0        0     0     0     0     0     0     0     0     0  \n",
       "1      152   137   124   148    73    32     0     0     0  \n",
       "2      157   179   175    70     0     0     0     0     0  \n",
       "3       32     0     0     0     0     0     0     0     0  \n",
       "4      172   152   180   118    64    36     0     0     0  \n",
       "...    ...   ...   ...   ...   ...   ...   ...   ...   ...  \n",
       "5211     6     8     9    10    12    15    21    31     1  \n",
       "5212   183   134    52    12    23    25    35    23     1  \n",
       "5213   110    76   104    34     9     4     0     0     1  \n",
       "5214    26    27    27    27    28    30    30    39     1  \n",
       "5215   118    97    19     0     0     0     0     0     1  \n",
       "\n",
       "[5216 rows x 4097 columns]"
      ]
     },
     "execution_count": 33,
     "metadata": {},
     "output_type": "execute_result"
    }
   ],
   "source": [
    "train"
   ]
  },
  {
   "cell_type": "code",
   "execution_count": 34,
   "metadata": {},
   "outputs": [],
   "source": [
    "X = train.drop([4096], axis=1)\n",
    "Y = train[4096].values.reshape(-1,1)\n",
    "x = test.drop([4096], axis=1)\n",
    "y = test[4096].values.reshape(-1,1)"
   ]
  },
  {
   "cell_type": "code",
   "execution_count": 35,
   "metadata": {},
   "outputs": [
    {
     "name": "stderr",
     "output_type": "stream",
     "text": [
      "/Users/jayprajapati/opt/anaconda3/lib/python3.7/site-packages/sklearn/linear_model/_logistic.py:940: ConvergenceWarning: lbfgs failed to converge (status=1):\n",
      "STOP: TOTAL NO. of ITERATIONS REACHED LIMIT.\n",
      "\n",
      "Increase the number of iterations (max_iter) or scale the data as shown in:\n",
      "    https://scikit-learn.org/stable/modules/preprocessing.html\n",
      "Please also refer to the documentation for alternative solver options:\n",
      "    https://scikit-learn.org/stable/modules/linear_model.html#logistic-regression\n",
      "  extra_warning_msg=_LOGISTIC_SOLVER_CONVERGENCE_MSG)\n"
     ]
    },
    {
     "name": "stdout",
     "output_type": "stream",
     "text": [
      "\n",
      "\n",
      "The Accuracy is:  0.7467948717948718\n",
      "[[ 81 153]\n",
      " [  5 385]]\n"
     ]
    },
    {
     "data": {
      "image/png": "[encoded data removed]",
      "text/plain": [
       "<Figure size 1296x720 with 2 Axes>"
      ]
     },
     "metadata": {
      "needs_background": "light"
     },
     "output_type": "display_data"
    }
   ],
   "source": [
    "complete_regression(train, test)"
   ]
  },
  {
   "cell_type": "code",
   "execution_count": null,
   "metadata": {},
   "outputs": [],
   "source": []
  },
  {
   "cell_type": "code",
   "execution_count": null,
   "metadata": {},
   "outputs": [],
   "source": []
  },
  {
   "cell_type": "code",
   "execution_count": 38,
   "metadata": {},
   "outputs": [
    {
     "name": "stderr",
     "output_type": "stream",
     "text": [
      "/Users/jayprajapati/opt/anaconda3/lib/python3.7/site-packages/sklearn/utils/validation.py:760: DataConversionWarning: A column-vector y was passed when a 1d array was expected. Please change the shape of y to (n_samples, ), for example using ravel().\n",
      "  y = column_or_1d(y, warn=True)\n",
      "/Users/jayprajapati/opt/anaconda3/lib/python3.7/site-packages/sklearn/linear_model/_logistic.py:940: ConvergenceWarning: lbfgs failed to converge (status=1):\n",
      "STOP: TOTAL NO. of ITERATIONS REACHED LIMIT.\n",
      "\n",
      "Increase the number of iterations (max_iter) or scale the data as shown in:\n",
      "    https://scikit-learn.org/stable/modules/preprocessing.html\n",
      "Please also refer to the documentation for alternative solver options:\n",
      "    https://scikit-learn.org/stable/modules/linear_model.html#logistic-regression\n",
      "  extra_warning_msg=_LOGISTIC_SOLVER_CONVERGENCE_MSG)\n"
     ]
    },
    {
     "data": {
      "text/plain": [
       "LogisticRegression(C=1.0, class_weight=None, dual=False, fit_intercept=True,\n",
       "                   intercept_scaling=1, l1_ratio=None, max_iter=100,\n",
       "                   multi_class='auto', n_jobs=None, penalty='l2',\n",
       "                   random_state=None, solver='lbfgs', tol=0.0001, verbose=0,\n",
       "                   warm_start=False)"
      ]
     },
     "execution_count": 38,
     "metadata": {},
     "output_type": "execute_result"
    }
   ],
   "source": [
    "lr.fit(X,Y)"
   ]
  },
  {
   "cell_type": "code",
   "execution_count": 39,
   "metadata": {},
   "outputs": [],
   "source": [
    "# Returning Coeffecient and Intercept \n",
    "def lm_inco(data):\n",
    "    b = IDsplit(data)\n",
    "    x = b[0]\n",
    "    y = b[1]\n",
    "    lr.fit(x,y)\n",
    "    it = lr.intercept_\n",
    "    co = lr.coef_\n",
    "    inco = np.append(it,co) \n",
    "    return(inco)"
   ]
  },
  {
   "cell_type": "code",
   "execution_count": 41,
   "metadata": {},
   "outputs": [
    {
     "name": "stderr",
     "output_type": "stream",
     "text": [
      "/Users/jayprajapati/opt/anaconda3/lib/python3.7/site-packages/sklearn/linear_model/_logistic.py:940: ConvergenceWarning: lbfgs failed to converge (status=1):\n",
      "STOP: TOTAL NO. of ITERATIONS REACHED LIMIT.\n",
      "\n",
      "Increase the number of iterations (max_iter) or scale the data as shown in:\n",
      "    https://scikit-learn.org/stable/modules/preprocessing.html\n",
      "Please also refer to the documentation for alternative solver options:\n",
      "    https://scikit-learn.org/stable/modules/linear_model.html#logistic-regression\n",
      "  extra_warning_msg=_LOGISTIC_SOLVER_CONVERGENCE_MSG)\n"
     ]
    }
   ],
   "source": [
    "model = lm_inco(train)"
   ]
  },
  {
   "cell_type": "code",
   "execution_count": 42,
   "metadata": {},
   "outputs": [
    {
     "data": {
      "text/plain": [
       "(4097,)"
      ]
     },
     "execution_count": 42,
     "metadata": {},
     "output_type": "execute_result"
    }
   ],
   "source": [
    "model.shape"
   ]
  },
  {
   "cell_type": "code",
   "execution_count": 43,
   "metadata": {},
   "outputs": [],
   "source": [
    "np.savetxt(\"Model.csv\", model, delimiter=\",\")"
   ]
  },
  {
   "cell_type": "code",
   "execution_count": 34,
   "metadata": {},
   "outputs": [],
   "source": [
    "# Y-value prediction\n",
    "def predict(Data,coef):\n",
    "    length = Data.shape[0]\n",
    "    XM = np.column_stack((np.ones((length,1)), Data))\n",
    "    pred = np.dot(XM,coef) \n",
    "    return(pred)"
   ]
  },
  {
   "cell_type": "code",
   "execution_count": 56,
   "metadata": {},
   "outputs": [],
   "source": [
    "def predict(Data,coef):\n",
    "    length = Data.shape[0]\n",
    "    XM = np.append(1,Data)\n",
    "    pred = np.dot(XM,coef)\n",
    "    if pred>=0.5:\n",
    "        a = 1;\n",
    "    else:\n",
    "        a = 0;\n",
    "    return(a)"
   ]
  },
  {
   "cell_type": "code",
   "execution_count": 57,
   "metadata": {},
   "outputs": [],
   "source": [
    "import os\n",
    "from PIL import Image\n",
    "d = \"/Users/jayprajapati/Downloads/SEM - 4/SM/PROJECT/untitled folder/\"\n",
    "a = os.listdir(d)\n",
    "for i in range(0,len(a)):\n",
    "    im = Image.open(d+a[1]).convert('L')\n",
    "    im2 = im.resize((64, 64))\n",
    "    value = np.asarray(im2.getdata(),dtype=np.float64)\n",
    "    value = pd.Series(value)"
   ]
  },
  {
   "cell_type": "code",
   "execution_count": 58,
   "metadata": {},
   "outputs": [
    {
     "data": {
      "text/plain": [
       "1"
      ]
     },
     "execution_count": 58,
     "metadata": {},
     "output_type": "execute_result"
    }
   ],
   "source": [
    "predict(value,model)"
   ]
  },
  {
   "cell_type": "code",
   "execution_count": 49,
   "metadata": {},
   "outputs": [
    {
     "data": {
      "text/plain": [
       "(4097,)"
      ]
     },
     "execution_count": 49,
     "metadata": {},
     "output_type": "execute_result"
    }
   ],
   "source": [
    "model.shape"
   ]
  },
  {
   "cell_type": "code",
   "execution_count": 54,
   "metadata": {},
   "outputs": [
    {
     "data": {
      "text/plain": [
       "array([[ 1., 36.],\n",
       "       [ 1., 35.],\n",
       "       [ 1., 34.],\n",
       "       ...,\n",
       "       [ 1., 31.],\n",
       "       [ 1., 34.],\n",
       "       [ 1., 34.]])"
      ]
     },
     "execution_count": 54,
     "metadata": {},
     "output_type": "execute_result"
    }
   ],
   "source": [
    "length = value.shape[0]\n",
    "XM = np.append(1,value)\n",
    "XM"
   ]
  },
  {
   "cell_type": "code",
   "execution_count": 55,
   "metadata": {},
   "outputs": [
    {
     "data": {
      "text/plain": [
       "array([ 1., 36., 35., ..., 31., 34., 34.])"
      ]
     },
     "execution_count": 55,
     "metadata": {},
     "output_type": "execute_result"
    }
   ],
   "source": [
    "np.append(1,value)"
   ]
  },
  {
   "cell_type": "code",
   "execution_count": null,
   "metadata": {},
   "outputs": [],
   "source": []
  }
 ],
 "metadata": {
  "kernelspec": {
   "display_name": "Python 3",
   "language": "python",
   "name": "python3"
  },
  "language_info": {
   "codemirror_mode": {
    "name": "ipython",
    "version": 3
   },
   "file_extension": ".py",
   "mimetype": "text/x-python",
   "name": "python",
   "nbconvert_exporter": "python",
   "pygments_lexer": "ipython3",
   "version": "3.7.6"
  }
 },
 "nbformat": 4,
 "nbformat_minor": 4
}
